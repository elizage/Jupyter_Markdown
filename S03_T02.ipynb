{
 "cells": [
  {
   "cell_type": "markdown",
   "id": "46b3375d-8fa7-419b-ae37-91bfafaf09b8",
   "metadata": {},
   "source": [
    "<span style='color:orange'>\n",
    "ELIZABETH GONZALEZ - PRESENCIAL -TARDE\n",
    "DATA SCIENCE\n",
    "SPRINT 3\n",
    "\n",
    "S03 T02: Structure of a Matrix\n",
    "\n",
    "</span>"
   ]
  },
  {
   "cell_type": "markdown",
   "id": "6087c509-ec12-48cb-8241-556af75f52f5",
   "metadata": {},
   "source": [
    "<span style='color:purple'>\n",
    "Level 1\n",
    "</span>"
   ]
  },
  {
   "cell_type": "markdown",
   "id": "722d90b5-24cc-49c0-a322-e26e54d0d5a2",
   "metadata": {},
   "source": [
    "<span style='color:purple'>\n",
    "3.2.1 Exercise \n",
    "\n",
    "Creates a one-dimensional np.array, including at least 8 integers, data type int64. Shows the size and shape of the array.</span>"
   ]
  },
  {
   "cell_type": "code",
   "execution_count": 99,
   "id": "e7fb592a-b02c-4f78-8404-164bab1077c4",
   "metadata": {},
   "outputs": [
    {
     "data": {
      "text/plain": [
       "array([1865, 3453, 6543,  987,   34,  564, 2322,  908, 5435,   65,  345,\n",
       "         89])"
      ]
     },
     "execution_count": 99,
     "metadata": {},
     "output_type": "execute_result"
    }
   ],
   "source": [
    "import numpy as np\n",
    "a = np.array([1865,3453,6543,987,34,564,2322,908,5435,65,345,89])\n",
    "a"
   ]
  },
  {
   "cell_type": "code",
   "execution_count": 100,
   "id": "bd0aacb9-b3b2-4e4b-abfc-f2dd0db0efee",
   "metadata": {},
   "outputs": [
    {
     "data": {
      "text/plain": [
       "dtype('int64')"
      ]
     },
     "execution_count": 100,
     "metadata": {},
     "output_type": "execute_result"
    }
   ],
   "source": [
    "a.dtype"
   ]
  },
  {
   "cell_type": "code",
   "execution_count": 101,
   "id": "d7e187a1-94c3-4282-8685-993fe1c75f1b",
   "metadata": {},
   "outputs": [
    {
     "data": {
      "text/plain": [
       "1"
      ]
     },
     "execution_count": 101,
     "metadata": {},
     "output_type": "execute_result"
    }
   ],
   "source": [
    "a.ndim"
   ]
  },
  {
   "cell_type": "code",
   "execution_count": 102,
   "id": "04a8c81d-b5b2-481f-a593-3fc0cffcae6e",
   "metadata": {},
   "outputs": [
    {
     "data": {
      "text/plain": [
       "(12,)"
      ]
     },
     "execution_count": 102,
     "metadata": {},
     "output_type": "execute_result"
    }
   ],
   "source": [
    "a.shape"
   ]
  },
  {
   "cell_type": "markdown",
   "id": "92758b1a-f895-4e70-88cc-6bd76493aec5",
   "metadata": {},
   "source": [
    "<span style='color:purple'>\n",
    "3.2.2 Exercise\n",
    "\n",
    "From the matrix in Exercise 1, calculate the mean value of the values ​​entered and subtract the average resulting from each of the values ​​in the matrix.</span>"
   ]
  },
  {
   "cell_type": "code",
   "execution_count": 103,
   "id": "77506397-8087-4e5f-9a55-f249b8379823",
   "metadata": {},
   "outputs": [
    {
     "data": {
      "text/plain": [
       "1884"
      ]
     },
     "execution_count": 103,
     "metadata": {},
     "output_type": "execute_result"
    }
   ],
   "source": [
    "import statistics as stats\n",
    "(stats.mean(a)) "
   ]
  },
  {
   "cell_type": "code",
   "execution_count": 104,
   "id": "2ecc8908-aec3-494e-aa3f-4c7d85aeb9c5",
   "metadata": {},
   "outputs": [
    {
     "data": {
      "text/plain": [
       "array([  -19,  1569,  4659,  -897, -1850, -1320,   438,  -976,  3551,\n",
       "       -1819, -1539, -1795])"
      ]
     },
     "execution_count": 104,
     "metadata": {},
     "output_type": "execute_result"
    }
   ],
   "source": [
    "a - (stats.mean(a))"
   ]
  },
  {
   "cell_type": "markdown",
   "id": "3de57c5a-36a4-4fa6-b2a1-b2c1f5b5cfd9",
   "metadata": {},
   "source": [
    "<span style='color:purple'>\n",
    "3.2.3 Exercise \n",
    "\n",
    "Create a two-dimensional array with a shape of 5 x 5. Extract the maximum value of the array, and the maximum values ​​of each of its axes.</span>"
   ]
  },
  {
   "cell_type": "code",
   "execution_count": 105,
   "id": "8ec14033-922f-4f91-a9cb-d371ff4e30da",
   "metadata": {},
   "outputs": [
    {
     "data": {
      "text/plain": [
       "array([[ 2,  4,  6,  8, 10],\n",
       "       [ 1,  3,  5,  7,  9],\n",
       "       [ 1,  2,  3,  4,  5],\n",
       "       [ 6,  7,  8,  9, 10],\n",
       "       [ 1,  4,  7, 10, 13]])"
      ]
     },
     "execution_count": 105,
     "metadata": {},
     "output_type": "execute_result"
    }
   ],
   "source": [
    "from numpy import array\n",
    "array([(2,4,6,8,10), (1,3,5,7,9), (1,2,3,4,5),(6,7,8,9,10),(1,4,7,10,13)])\n",
    "\n"
   ]
  },
  {
   "cell_type": "code",
   "execution_count": 106,
   "id": "9fe6c4da-2d6b-4fa1-9fe1-7832caa7a467",
   "metadata": {},
   "outputs": [
    {
     "name": "stdout",
     "output_type": "stream",
     "text": [
      "[[ 2  4  6  8 10]\n",
      " [ 1  3  5  7  9]\n",
      " [ 1  2  3  4  5]\n",
      " [ 6  7  8  9 10]\n",
      " [ 1  4  7 10 13]]\n"
     ]
    }
   ],
   "source": [
    "#numpy library is imported\n",
    "import numpy as np\n",
    "A= np.array([(2,4,6,8,10), (1,3,5,7,9), (1,2,3,4,5),(6,7,8,9,10),(1,4,7,10,13)])\n",
    "print (A)\n"
   ]
  },
  {
   "cell_type": "code",
   "execution_count": 107,
   "id": "6f69e31f-6011-480b-a0c5-3af5e6f16ee7",
   "metadata": {},
   "outputs": [
    {
     "name": "stdout",
     "output_type": "stream",
     "text": [
      "The maxim value matriz is:  13\n"
     ]
    }
   ],
   "source": [
    "\n",
    "max_value =np.max(A)\n",
    "print ('The maxim value matriz is: ', max_value)\n"
   ]
  },
  {
   "cell_type": "markdown",
   "id": "7764495e-b0b7-4c5f-85da-c6d75f6811f9",
   "metadata": {},
   "source": [
    "<span style='color:purple'>To obtain the maximum value of each axis, we will name the rows \"x\" and the columns \"y\"</span>"
   ]
  },
  {
   "cell_type": "code",
   "execution_count": 108,
   "id": "5ae467ed-4873-4c64-a723-89a56acfb6fc",
   "metadata": {},
   "outputs": [
    {
     "name": "stdout",
     "output_type": "stream",
     "text": [
      "The maxim value for each row is:  [10  9  5 10 13]\n"
     ]
    }
   ],
   "source": [
    "x = np.amax(A,1)\n",
    "print ('The maxim value for each row is: ', x)"
   ]
  },
  {
   "cell_type": "code",
   "execution_count": 109,
   "id": "f1652720-f30d-451e-9fa0-a61f3b84046b",
   "metadata": {},
   "outputs": [
    {
     "name": "stdout",
     "output_type": "stream",
     "text": [
      "The maxim value for each column is::  [ 6  7  8 10 13]\n"
     ]
    }
   ],
   "source": [
    "y = np.amax(A,0)\n",
    "print ('The maxim value for each column is:: ', y)"
   ]
  },
  {
   "cell_type": "markdown",
   "id": "44d37b44-1926-4974-9e04-4c58401d25f9",
   "metadata": {},
   "source": [
    "<span style='color:purple'>Level 2\n",
    "</span>\n"
   ]
  },
  {
   "cell_type": "markdown",
   "id": "89e0224e-6d49-4a9c-8dd3-d76e85598646",
   "metadata": {},
   "source": [
    "<span style='color:purple'> \n",
    "    \n",
    "3.2.4 Exercise\n",
    "    \n",
    "\n",
    "    \n",
    "Show me with examples of different arrays, the fundamental rule of Broadcasting that says, \"arrays can be transmitted / broadcast if their dimensions match or if one of the arrays has a size of 1.\"</span>\n",
    "\n"
   ]
  },
  {
   "cell_type": "markdown",
   "id": "9c1118a2-f996-480b-9498-8bd4d9148459",
   "metadata": {},
   "source": [
    "<span style='color:purple'>when we add two arrays, the elements in the same positions are added.</span>"
   ]
  },
  {
   "cell_type": "code",
   "execution_count": 110,
   "id": "b880fb83-1bb2-47bd-a0a3-f3977813d2d5",
   "metadata": {},
   "outputs": [
    {
     "data": {
      "text/plain": [
       "array([2, 3, 4, 5])"
      ]
     },
     "execution_count": 110,
     "metadata": {},
     "output_type": "execute_result"
    }
   ],
   "source": [
    "import numpy as np\n",
    "\n",
    "a = np.array([1,2,3,4])\n",
    "b = np.array([1,1,1,1])\n",
    "a + b\n"
   ]
  },
  {
   "cell_type": "markdown",
   "id": "1680cdf0-cbc8-4af7-a078-09895a53f173",
   "metadata": {},
   "source": [
    "<span style='color:purple'>We can also add a scalar to a higher dimensional array. In that case, broadcasting occurs in all axes. In the following example, we have a two-dimensional array with a shape of (3,4). The scalar is added to all the elements of the array.</span>"
   ]
  },
  {
   "cell_type": "code",
   "execution_count": 111,
   "id": "1ae4ed53-acb9-414a-9999-b5c9e514d167",
   "metadata": {},
   "outputs": [
    {
     "name": "stdout",
     "output_type": "stream",
     "text": [
      "[[1 2 2 0]\n",
      " [4 3 4 0]\n",
      " [0 1 0 0]]\n",
      "[[3 4 4 2]\n",
      " [6 5 6 2]\n",
      " [2 3 2 2]]\n"
     ]
    }
   ],
   "source": [
    "A = np.random.randint(5, size=(3, 4))\n",
    "B = 2\n",
    "print(A)\n",
    "print(A + B)"
   ]
  },
  {
   "cell_type": "markdown",
   "id": "bdfd13a8-8ef7-469f-8eef-fb5f0b695a24",
   "metadata": {},
   "source": [
    "<span style='color:purple'>Extract columns values</span>"
   ]
  },
  {
   "cell_type": "code",
   "execution_count": 112,
   "id": "86af8225-eda8-4514-a83c-8c0e0c21fc6e",
   "metadata": {},
   "outputs": [
    {
     "name": "stdout",
     "output_type": "stream",
     "text": [
      "Temperaturas de los miercoles: [13.5, 11.5, 10.5, 13.5, 12.5, 13.5, 13.5, 14.5, 11.5, 11.5]\n",
      "Temperaturas de los viernes: [12.8, 13.7, 14.6, 16.8, 18.7, 20.1, 17.8, 15.1, 14.0, 13.1]\n"
     ]
    }
   ],
   "source": [
    "temperaturas = [\n",
    "[12.5, 14.8, 13.5, 13.5, 12.8, 13.4, 13.1],\n",
    "[13.3, 15.7, 11.5, 12.7, 13.7, 14.4, 14.4],\n",
    "[14.7, 15.6, 10.5, 11.5, 14.6, 14.0, 13.3],\n",
    "[13.4, 14.2, 13.5, 10.5, 16.8, 14.6, 12.1],\n",
    "[14.9, 15.9, 12.5, 11.6, 18.7, 16.7, 11.6],\n",
    "[15.4, 15.0, 13.5, 12.6, 20.1, 13.8, 12.7],\n",
    "[16.1, 16.0, 13.5, 11.2, 17.8, 12.1, 13.9],\n",
    "[14.1, 13.0, 14.5, 11.1, 15.1, 12.0, 13.2],\n",
    "[13.2, 12.4, 11.5, 12.0, 14.0, 11.8, 14.0],\n",
    "[13.7, 11.3, 11.5, 15.0, 13.1, 13.3, 15.1],]\n",
    "\n",
    "indice_miercoles = 2\n",
    "indice_viernes = 4\n",
    "\n",
    "columna_miercoles =[semana[indice_miercoles] for semana in temperaturas]\n",
    "columna_viernes =[semana[indice_viernes] for semana in temperaturas]\n",
    "\n",
    "print(f'Temperaturas de los miercoles: {columna_miercoles}')\n",
    "print(f'Temperaturas de los viernes: {columna_viernes}')"
   ]
  },
  {
   "cell_type": "markdown",
   "id": "0631d04e-1395-487b-9559-5ec4aaeefed0",
   "metadata": {},
   "source": [
    "<span style='color:purple'>\n",
    "3.2.5 Excercise \n",
    "\n",
    "Use indexing to extract the values of a column and a row from the array. And add up their values.</span>"
   ]
  },
  {
   "cell_type": "code",
   "execution_count": 130,
   "id": "881d8b89-0def-4c1a-bceb-2b8b1e600749",
   "metadata": {},
   "outputs": [],
   "source": [
    "temperaturas = array ([\n",
    "[12.5, 14.8, 13.5, 13.5, 12.8, 13.4, 13.1],\n",
    "[13.3, 15.7, 11.5, 12.7, 13.7, 14.4, 14.4],\n",
    "[14.7, 15.6, 10.5, 11.5, 14.6, 14.0, 13.3],\n",
    "[13.4, 14.2, 13.5, 10.5, 16.8, 14.6, 12.1],\n",
    "[14.9, 15.9, 12.5, 11.6, 18.7, 16.7, 11.6],\n",
    "[15.4, 15.0, 13.5, 12.6, 20.1, 13.8, 12.7],\n",
    "[16.1, 16.0, 13.5, 11.2, 17.8, 12.1, 13.9],\n",
    "[14.1, 13.0, 14.5, 11.1, 15.1, 12.0, 13.2],\n",
    "[13.2, 12.4, 11.5, 12.0, 14.0, 11.8, 14.0],\n",
    "[13.7, 11.3, 11.5, 15.0, 13.1, 13.3, 15.1],])"
   ]
  },
  {
   "cell_type": "markdown",
   "id": "a386f99f-468a-4c36-8703-59d6334df8d4",
   "metadata": {},
   "source": [
    "<span style='color:purple'>Extract a row</span>"
   ]
  },
  {
   "cell_type": "code",
   "execution_count": 131,
   "id": "4e05fb3b-a000-475b-a781-e62a106d2553",
   "metadata": {},
   "outputs": [
    {
     "data": {
      "text/plain": [
       "array([13.4, 14.2, 13.5, 10.5, 16.8, 14.6, 12.1])"
      ]
     },
     "execution_count": 131,
     "metadata": {},
     "output_type": "execute_result"
    }
   ],
   "source": [
    "temperaturas[3]"
   ]
  },
  {
   "cell_type": "markdown",
   "id": "d75b64ab-a87b-443a-bf8e-c24364645c24",
   "metadata": {},
   "source": [
    "<span style='color:purple'>Sum the values ​​of a row</span>"
   ]
  },
  {
   "cell_type": "code",
   "execution_count": 132,
   "id": "44475e83-a83a-4101-bbcb-dcd71034a059",
   "metadata": {},
   "outputs": [
    {
     "data": {
      "text/plain": [
       "array(95.1)"
      ]
     },
     "execution_count": 132,
     "metadata": {},
     "output_type": "execute_result"
    }
   ],
   "source": [
    "np.apply_along_axis(sum, 0, temperaturas [3])"
   ]
  },
  {
   "cell_type": "markdown",
   "id": "6fb45471-9e21-41d4-ab0b-b2d287509a77",
   "metadata": {},
   "source": [
    "<span style='color:purple'>Extract a column</span>"
   ]
  },
  {
   "cell_type": "code",
   "execution_count": 133,
   "id": "5621bd50-8a8e-4acc-8c53-6a0e1c72b596",
   "metadata": {},
   "outputs": [
    {
     "data": {
      "text/plain": [
       "array([13.1, 14.4, 13.3, 12.1, 11.6, 12.7, 13.9, 13.2, 14. , 15.1])"
      ]
     },
     "execution_count": 133,
     "metadata": {},
     "output_type": "execute_result"
    }
   ],
   "source": [
    "temperaturas[:,6]"
   ]
  },
  {
   "cell_type": "markdown",
   "id": "750b39f2-127b-4771-b688-cf53a08a1469",
   "metadata": {},
   "source": [
    "<span style='color:purple'>Sum the values ​​of a column</span>"
   ]
  },
  {
   "cell_type": "code",
   "execution_count": 134,
   "id": "b358c09c-f6ab-4906-972d-23e64fd65445",
   "metadata": {},
   "outputs": [
    {
     "data": {
      "text/plain": [
       "array(133.4)"
      ]
     },
     "execution_count": 134,
     "metadata": {},
     "output_type": "execute_result"
    }
   ],
   "source": [
    "np.apply_along_axis(sum, 0, temperaturas [:,6])"
   ]
  },
  {
   "cell_type": "markdown",
   "id": "c5bdcf0b-911b-4588-819d-b092cd76d493",
   "metadata": {},
   "source": [
    "<span style='color:purple'>\n",
    "3.2.6 Exercise\n",
    "\n",
    "Mask the above matrix, perform a vectorized Boolean calculation, taking each element and checking if it is evenly divided by four.\n",
    "This returns a mask array in the same way as the elementary results of the calculation.</span>\n",
    "\n",
    "\n"
   ]
  },
  {
   "cell_type": "code",
   "execution_count": 135,
   "id": "3a6d373f-0463-4bb0-b45d-d3d1831e8f43",
   "metadata": {},
   "outputs": [
    {
     "data": {
      "text/plain": [
       "array([[False, False, False, False, False, False, False],\n",
       "       [False, False, False, False, False, False, False],\n",
       "       [False, False, False, False, False, False, False],\n",
       "       [False, False, False, False, False, False, False],\n",
       "       [False, False, False, False, False, False, False],\n",
       "       [False, False, False, False, False, False, False],\n",
       "       [False,  True, False, False, False, False, False],\n",
       "       [False, False, False, False, False,  True, False],\n",
       "       [False, False, False,  True, False, False, False],\n",
       "       [False, False, False, False, False, False, False]])"
      ]
     },
     "execution_count": 135,
     "metadata": {},
     "output_type": "execute_result"
    }
   ],
   "source": [
    "res_B = np.array([\n",
    "[12.5, 14.8, 13.5, 13.5, 12.8, 13.4, 13.1],\n",
    "[13.3, 15.7, 11.5, 12.7, 13.7, 14.4, 14.4],\n",
    "[14.7, 15.6, 10.5, 11.5, 14.6, 14.0, 13.3],\n",
    "[13.4, 14.2, 13.5, 10.5, 16.8, 14.6, 12.1],\n",
    "[14.9, 15.9, 12.5, 11.6, 18.7, 16.7, 11.6],\n",
    "[15.4, 15.0, 13.5, 12.6, 20.1, 13.8, 12.7],\n",
    "[16.1, 16.0, 13.5, 11.2, 17.8, 12.1, 13.9],\n",
    "[14.1, 13.0, 14.5, 11.1, 15.1, 12.0, 13.2],\n",
    "[13.2, 12.4, 11.5, 12.0, 14.0, 11.8, 14.0],\n",
    "[13.7, 11.3, 11.5, 15.0, 13.1, 13.3, 15.1],])\n",
    "res_A = res_B % 4 == 0\n",
    "res_A"
   ]
  },
  {
   "cell_type": "markdown",
   "id": "89dd3397-003b-4d27-a78f-7edfd6629ab0",
   "metadata": {},
   "source": [
    "<span style='color:purple'> \n",
    "3.2.7 Exercise\n",
    "\n",
    "Then use this mask to index the original number array. This causes the array to lose its original shape, reducing it to one dimension, but you still get the data you are looking for.</span>"
   ]
  },
  {
   "cell_type": "code",
   "execution_count": 136,
   "id": "38ac1653-e450-40ed-9d0f-a4bbdad94e14",
   "metadata": {},
   "outputs": [
    {
     "data": {
      "text/plain": [
       "(array([6, 7, 8]), array([1, 5, 3]))"
      ]
     },
     "execution_count": 136,
     "metadata": {},
     "output_type": "execute_result"
    }
   ],
   "source": [
    "np.where(res_B % 4 == 0)"
   ]
  },
  {
   "cell_type": "markdown",
   "id": "1eebc85c-eb2f-4d4d-8b80-e9e5c2e7a56c",
   "metadata": {},
   "source": [
    "<span style='color:purple'>Level 3\n",
    "</span>\n"
   ]
  },
  {
   "cell_type": "markdown",
   "id": "54e077c2-b423-465f-a450-1ef4380f5d6c",
   "metadata": {},
   "source": [
    "<span style='color:purple'> \n",
    "3.2.8 Exercise\n",
    "\n",
    "Show me to see what happens when we remove the Green G or Blue B channel. You should use indexing to select the channel you want to undo.\n",
    "Use the method, mpimg.imsave () from the imported library, to save the modified images and upload them to your repository on github</span>\n",
    "\n"
   ]
  },
  {
   "cell_type": "code",
   "execution_count": 137,
   "id": "4b76366b-a492-40a4-9b7c-a33799b5c671",
   "metadata": {},
   "outputs": [
    {
     "name": "stdout",
     "output_type": "stream",
     "text": [
      "This image is:  <class 'numpy.ndarray'> with dimensions: (960, 960, 3)\n"
     ]
    }
   ],
   "source": [
    "import matplotlib.pyplot as plt\n",
    "import matplotlib.image as mpimg\n",
    "import numpy as np\n",
    "\n",
    "# Read in the image and print some stats\n",
    "\n",
    "image = mpimg.imread(r'/Users/elizabeth/Desktop/Cojin.jpeg')\n",
    "print('This image is: ',type(image), \n",
    "     'with dimensions:', image.shape)"
   ]
  },
  {
   "cell_type": "code",
   "execution_count": 138,
   "id": "8e7e03c8-202d-4496-aac2-edda727f51a6",
   "metadata": {},
   "outputs": [
    {
     "data": {
      "image/png": "[encoded data removed]",
      "text/plain": [
       "<Figure size 432x288 with 1 Axes>"
      ]
     },
     "metadata": {
      "needs_background": "light"
     },
     "output_type": "display_data"
    }
   ],
   "source": [
    "image_original = Image.open('/Users/elizabeth/Desktop/Cojin.jpeg')\n",
    "plt.imshow(image_original)\n",
    "plt.show()"
   ]
  },
  {
   "cell_type": "code",
   "execution_count": 139,
   "id": "60984661-f2ea-462a-94e1-444cfcf9372c",
   "metadata": {},
   "outputs": [
    {
     "name": "stdout",
     "output_type": "stream",
     "text": [
      "[103 153 102]\n"
     ]
    }
   ],
   "source": [
    "colourpixel0=image[0,0,:]\n",
    "print(colourpixel0)"
   ]
  },
  {
   "cell_type": "markdown",
   "id": "7d7a95f4-1c5f-4773-9856-d959313163ee",
   "metadata": {},
   "source": [
    "<span style='color:purple'>a. Fist step is to import Image module from PIL</span>"
   ]
  },
  {
   "cell_type": "code",
   "execution_count": 140,
   "id": "04d47fd6-952f-499b-8b43-00e559900021",
   "metadata": {},
   "outputs": [],
   "source": [
    "from PIL import Image                                                                                \n",
    "image = Image.open('/Users/elizabeth/Desktop/Cojin.jpeg')\n",
    "image.show() "
   ]
  },
  {
   "cell_type": "markdown",
   "id": "de580d8b-cada-492a-b7eb-af9e18b3ab26",
   "metadata": {},
   "source": [
    "<span style='color:purple'>b. Second step is taking the image file as input.</span>"
   ]
  },
  {
   "cell_type": "markdown",
   "id": "dfa414e2-849b-4fa1-b62f-671c3469f8ce",
   "metadata": {},
   "source": [
    "<span style='color:purple'>c. Third step is to check whether the image imported is correct or not.</span>"
   ]
  },
  {
   "cell_type": "markdown",
   "id": "8a881d5e-44f2-4189-8455-d9f3d4347690",
   "metadata": {},
   "source": [
    "<span style='color:purple'>d. Fourth step is to read image file from the “.jpeg file”.</span>"
   ]
  },
  {
   "cell_type": "code",
   "execution_count": 141,
   "id": "01dcacab-f4a6-4b79-8ff0-ef9c52a4288d",
   "metadata": {},
   "outputs": [],
   "source": [
    "image_data = image.load()"
   ]
  },
  {
   "cell_type": "markdown",
   "id": "813fe744-189b-424c-b230-5c4450aa6574",
   "metadata": {},
   "source": [
    "<span style='color:purple'>f. Fifth step is to store the size of image</span>"
   ]
  },
  {
   "cell_type": "code",
   "execution_count": 142,
   "id": "02fb31c7-4d19-495b-adef-238e8f831bd8",
   "metadata": {},
   "outputs": [],
   "source": [
    "height,width = image.size"
   ]
  },
  {
   "cell_type": "markdown",
   "id": "519b37f4-55a2-487f-80a6-f3881ac31e14",
   "metadata": {},
   "source": [
    "<span style='color:purple'>g. Sixth step is most crucial where we go through each pixel of image and set the (r,g,b) value as (0,g,b), ie to set the value of red color as 0. Suppose in your case the color is different then you can modify the color accordingly.</span>"
   ]
  },
  {
   "cell_type": "code",
   "execution_count": 143,
   "id": "fea10101-cd20-4999-b314-8606b443a19a",
   "metadata": {},
   "outputs": [],
   "source": [
    "for i in range(height):\n",
    "    for j in range(width):\n",
    "        r,g,b = image_data[i,j]\n",
    "        image_data[i,j] = r,0,0\n",
    "image.save('Cojin_converted.jpeg')"
   ]
  },
  {
   "cell_type": "markdown",
   "id": "2fb4761e-9ed0-463d-9008-b6729f2b2d64",
   "metadata": {},
   "source": [
    "<span style='color:purple'>h. Seven step is saving the image after removing the desired color, and changing the name to “converted.jepg”.</span>"
   ]
  },
  {
   "cell_type": "code",
   "execution_count": 144,
   "id": "c83e58bb-6a5d-49bd-80e7-4f7e802ac274",
   "metadata": {},
   "outputs": [],
   "source": [
    "image.save('/Users/elizabeth/Desktop/Cojin_converted.jpeg')"
   ]
  },
  {
   "cell_type": "code",
   "execution_count": 145,
   "id": "629c5c81-9680-4b80-b791-7bbd8f39f6bd",
   "metadata": {},
   "outputs": [
    {
     "data": {
      "image/png": "[encoded data removed]",
      "text/plain": [
       "<Figure size 432x288 with 1 Axes>"
      ]
     },
     "metadata": {
      "needs_background": "light"
     },
     "output_type": "display_data"
    }
   ],
   "source": [
    "image_coverted = Image.open('/Users/elizabeth/Desktop/Cojin_converted.jpeg')\n",
    "plt.imshow(image_coverted)\n",
    "plt.show()"
   ]
  },
  {
   "cell_type": "markdown",
   "id": "2e8c84b5-7266-405d-ab28-b885f42e0d79",
   "metadata": {},
   "source": [
    "<span style='color:purple'>i. Last and the final step is  change color to grey scale.</span>"
   ]
  },
  {
   "cell_type": "code",
   "execution_count": 146,
   "id": "e825d15d-8c3f-44a3-a536-473a476f4d8d",
   "metadata": {},
   "outputs": [
    {
     "data": {
      "image/png": "[encoded data removed]",
      "text/plain": [
       "<Figure size 432x288 with 1 Axes>"
      ]
     },
     "metadata": {
      "needs_background": "light"
     },
     "output_type": "display_data"
    }
   ],
   "source": [
    "imagen_gris = mpimg.imread('/Users/elizabeth/Desktop/Cojin.jpeg')\n",
    "\n",
    "R, G, B = imagen_gris[:,:,0], imagen_gris[:,:,1], imagen_gris[:,:,2]\n",
    "imgGray = 0.2989 * R + 0.5870 * G + 0.1140 * B\n",
    "plt.imshow(imgGray, cmap='gray')\n",
    "plt.show()"
   ]
  },
  {
   "cell_type": "code",
   "execution_count": null,
   "id": "40fb6208-6945-4297-bb3a-ea7fb6bdf5be",
   "metadata": {},
   "outputs": [],
   "source": []
  },
  {
   "cell_type": "code",
   "execution_count": null,
   "id": "8b59d1d8-f4ca-41dd-ab77-78511af3838f",
   "metadata": {},
   "outputs": [],
   "source": []
  }
 ],
 "metadata": {
  "kernelspec": {
   "display_name": "Python 3",
   "language": "python",
   "name": "python3"
  },
  "language_info": {
   "codemirror_mode": {
    "name": "ipython",
    "version": 3
   },
   "file_extension": ".py",
   "mimetype": "text/x-python",
   "name": "python",
   "nbconvert_exporter": "python",
   "pygments_lexer": "ipython3",
   "version": "3.8.8"
  },
  "toc-autonumbering": true,
  "toc-showmarkdowntxt": true,
  "toc-showtags": true
 },
 "nbformat": 4,
 "nbformat_minor": 5
}
