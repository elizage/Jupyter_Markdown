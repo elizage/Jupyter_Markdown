{
 "cells": [
  {
   "cell_type": "markdown",
   "id": "400d717f-5262-4b33-85bc-916e97fa515b",
   "metadata": {},
   "source": [
    "ELIZABETH GONZALEZ - PRESENCIAL -TARDE\n",
    "DATA SCIENCE\n",
    "SPRINT 3\n",
    "S03 T01: \n",
    "NIVEL 1\n"
   ]
  },
  {
   "cell_type": "markdown",
   "id": "cad40f76-4ac5-4963-80db-7a85be4ad942",
   "metadata": {},
   "source": [
    "Exercici 1. Crea una llista que agrupi els mesos de l’any en trimestres (1T: Gener, Febrer i Març, 2T: Abril, Maig, Juny...), és a dir, una llista amb 4 llistes dins."
   ]
  },
  {
   "cell_type": "code",
   "execution_count": 11,
   "id": "794f5dcf-c8fd-4ef9-80dc-1fdefe011caf",
   "metadata": {},
   "outputs": [
    {
     "name": "stdout",
     "output_type": "stream",
     "text": [
      "[['enero', 'febrero', 'marzo'], ['abril', 'mayo', 'junio'], ['julio', 'agosto', 'septiembre'], ['octubre', 'noviembre', 'diciembre']]\n"
     ]
    }
   ],
   "source": [
    "l1 = ['enero', 'febrero', 'marzo']\n",
    "l2 = ['abril', 'mayo', 'junio']\n",
    "l3 = ['julio', 'agosto', 'septiembre']\n",
    "l4 = ['octubre', 'noviembre', 'diciembre']\n",
    "\n",
    "lst = []\n",
    "\n",
    "lst.append (l1)\n",
    "lst.append (l2)\n",
    "lst.append (l3)\n",
    "lst.append (l4)\n",
    "\n",
    "print (lst)\n",
    "\n",
    "\n",
    "\n"
   ]
  },
  {
   "cell_type": "markdown",
   "id": "9e5382a6-d736-49a1-8dbd-6fce73df5e8a",
   "metadata": {},
   "source": [
    "Exercici 2\n",
    "Crea un codi que et permeti accedir a:\n",
    "* El segon mes del primer trimestre"
   ]
  },
  {
   "cell_type": "code",
   "execution_count": 15,
   "id": "09a69b06-3294-4917-9d58-63f8ebe2b8aa",
   "metadata": {},
   "outputs": [
    {
     "data": {
      "text/plain": [
       "[['enero', 'febrero', 'marzo'],\n",
       " ['abril', 'mayo', 'junio'],\n",
       " ['julio', 'agosto', 'septiembre'],\n",
       " ['octubre', 'noviembre', 'diciembre']]"
      ]
     },
     "execution_count": 15,
     "metadata": {},
     "output_type": "execute_result"
    }
   ],
   "source": [
    "lst"
   ]
  },
  {
   "cell_type": "code",
   "execution_count": 31,
   "id": "3741f24d-b998-41d8-9ae2-e8fb9fae6122",
   "metadata": {},
   "outputs": [
    {
     "data": {
      "text/plain": [
       "'febrero'"
      ]
     },
     "execution_count": 31,
     "metadata": {},
     "output_type": "execute_result"
    }
   ],
   "source": [
    "lst[0][1]"
   ]
  },
  {
   "cell_type": "markdown",
   "id": "b39ed6c4-bf4b-4717-b349-492007d27cac",
   "metadata": {},
   "source": [
    "* Els mesos del primer trimestre\n"
   ]
  },
  {
   "cell_type": "code",
   "execution_count": 33,
   "id": "0837a622-04e9-43ad-91bc-423ad676505e",
   "metadata": {},
   "outputs": [
    {
     "data": {
      "text/plain": [
       "['enero', 'febrero', 'marzo']"
      ]
     },
     "execution_count": 33,
     "metadata": {},
     "output_type": "execute_result"
    }
   ],
   "source": [
    "lst[0]"
   ]
  },
  {
   "cell_type": "markdown",
   "id": "00256eb3-caff-4f3b-b41f-c6fdd37959a2",
   "metadata": {},
   "source": [
    "* Setembre i octubre"
   ]
  },
  {
   "cell_type": "code",
   "execution_count": 36,
   "id": "debd22f0-3020-48ba-81ca-3fedbd471adb",
   "metadata": {},
   "outputs": [
    {
     "data": {
      "text/plain": [
       "('septiembre', 'octubre')"
      ]
     },
     "execution_count": 36,
     "metadata": {},
     "output_type": "execute_result"
    }
   ],
   "source": [
    "lst[2][2], lst[-1][-3]"
   ]
  },
  {
   "cell_type": "markdown",
   "id": "bdd9faae-a852-41fc-837d-fcaebb500edb",
   "metadata": {},
   "source": [
    "Exercici 3\n",
    "Crea una llista amb nombres desordenats i respon a les següents preguntes:"
   ]
  },
  {
   "cell_type": "code",
   "execution_count": 39,
   "id": "c8dfe8d2-26cd-4187-90b1-48dd05158ac9",
   "metadata": {},
   "outputs": [],
   "source": [
    "lst = [58, 56, 54, 51, 50, 50, 49, 48, 46, 43, 41, 39, 32, 45, 70, 83, 91, 105, 221]"
   ]
  },
  {
   "cell_type": "markdown",
   "id": "7d692fa7-9616-457a-a1a4-d94a7cea5a00",
   "metadata": {},
   "source": [
    "* Quants números hi ha?"
   ]
  },
  {
   "cell_type": "code",
   "execution_count": 46,
   "id": "2439956a-ba9b-4e6c-b3e7-567b44aedb93",
   "metadata": {},
   "outputs": [
    {
     "data": {
      "text/plain": [
       "19"
      ]
     },
     "execution_count": 46,
     "metadata": {},
     "output_type": "execute_result"
    }
   ],
   "source": [
    "len(lst)"
   ]
  },
  {
   "cell_type": "markdown",
   "id": "d4500132-0414-4a5c-be90-59df60f16a2c",
   "metadata": {},
   "source": [
    "* Quantes vegades apareix el número 3"
   ]
  },
  {
   "cell_type": "code",
   "execution_count": 51,
   "id": "6420d548-2338-4480-bf6f-0e346182e2f8",
   "metadata": {},
   "outputs": [
    {
     "data": {
      "text/plain": [
       "0"
      ]
     },
     "execution_count": 51,
     "metadata": {},
     "output_type": "execute_result"
    }
   ],
   "source": [
    "lst.count(3)"
   ]
  },
  {
   "cell_type": "markdown",
   "id": "4d80d711-4b11-44fb-a880-667a2edcc5f3",
   "metadata": {},
   "source": [
    "* Quantes vegades apareixen els nombres 3 i 4?"
   ]
  },
  {
   "cell_type": "code",
   "execution_count": 59,
   "id": "6dd1b373-16c3-4224-bccb-c65b73457d3b",
   "metadata": {},
   "outputs": [
    {
     "data": {
      "text/plain": [
       "(0, 2)"
      ]
     },
     "execution_count": 59,
     "metadata": {},
     "output_type": "execute_result"
    }
   ],
   "source": [
    "lst.count(3),lst.count(50)"
   ]
  },
  {
   "cell_type": "markdown",
   "id": "34dbe172-d778-49e5-82fe-014591c1315f",
   "metadata": {},
   "source": [
    "* Quin és el número més gran?"
   ]
  },
  {
   "cell_type": "code",
   "execution_count": 82,
   "id": "ccaec7ce-4741-4493-8cdb-d58e6beb3520",
   "metadata": {},
   "outputs": [
    {
     "data": {
      "text/plain": [
       "221"
      ]
     },
     "execution_count": 82,
     "metadata": {},
     "output_type": "execute_result"
    }
   ],
   "source": [
    "max(lst)"
   ]
  },
  {
   "cell_type": "markdown",
   "id": "ed421958-a809-4d4f-8539-e39905aaefa5",
   "metadata": {},
   "source": [
    "* Quins són els 3 números més petits"
   ]
  },
  {
   "cell_type": "code",
   "execution_count": 111,
   "id": "ac499e1c-16c2-46b0-b23e-7f99aecae5d9",
   "metadata": {},
   "outputs": [
    {
     "data": {
      "text/plain": [
       "[32, 39, 41, 43, 45, 46, 48, 49, 50, 50, 51, 54, 56, 58, 70, 83, 91, 105, 221]"
      ]
     },
     "execution_count": 111,
     "metadata": {},
     "output_type": "execute_result"
    }
   ],
   "source": [
    "lst = [58, 56, 54, 51, 50, 50, 49, 48, 46, 43, 41, 39, 32, 45, 70, 83, 91, 105, 221]\n",
    "lst.sort()\n",
    "lst\n",
    "\n"
   ]
  },
  {
   "cell_type": "markdown",
   "id": "025163ea-b804-4ca0-8e31-9ab959cab234",
   "metadata": {},
   "source": [
    "los numeros más pequeños son:"
   ]
  },
  {
   "cell_type": "code",
   "execution_count": 89,
   "id": "7844dcee-31ff-4ae8-bf58-e81b3bdebb1d",
   "metadata": {},
   "outputs": [
    {
     "data": {
      "text/plain": [
       "(32, 39, 41)"
      ]
     },
     "execution_count": 89,
     "metadata": {},
     "output_type": "execute_result"
    }
   ],
   "source": [
    "lst[0],lst[1],lst[2]"
   ]
  },
  {
   "cell_type": "markdown",
   "id": "fd60db7a-e8ff-4ed0-89fe-06c6fb20b482",
   "metadata": {},
   "source": [
    "* Quin és el rang d’aquesta llista?"
   ]
  },
  {
   "cell_type": "code",
   "execution_count": 57,
   "id": "27ef0135-cd01-4e6b-be16-a690e33a40c8",
   "metadata": {},
   "outputs": [
    {
     "data": {
      "text/plain": [
       "189"
      ]
     },
     "execution_count": 57,
     "metadata": {},
     "output_type": "execute_result"
    }
   ],
   "source": [
    "max(lst)-min(lst)"
   ]
  },
  {
   "cell_type": "markdown",
   "id": "a0858ec1-a488-45bd-b406-c831cf01f681",
   "metadata": {},
   "source": [
    "- Exercici 4\n",
    "Crea un diccionari de la següent forma i respon a les preguntes:\n",
    "compra = { \"Pomes\" : {\"Qty\": 5, \"€\": 0.42}, \"Peres\" : {\"Qty\": 3, \"€\": 0.66} }\n"
   ]
  },
  {
   "cell_type": "code",
   "execution_count": 90,
   "id": "99b0a1d8-9c20-45aa-b6fa-9b5d66c6cd0c",
   "metadata": {},
   "outputs": [],
   "source": [
    "compra = { \"Pomes\" : {\"Qty\": 5, \"€\": 0.42}, \"Peres\" : {\"Qty\": 3, \"€\": 0.66} }"
   ]
  },
  {
   "cell_type": "markdown",
   "id": "8d5c595f-d664-4003-9390-6ebd8806725e",
   "metadata": {},
   "source": [
    "* Afegeix alguna fruita més\n"
   ]
  },
  {
   "cell_type": "code",
   "execution_count": 213,
   "id": "0caf8780-c5c3-42d1-adf6-9fe30df9b2d9",
   "metadata": {},
   "outputs": [
    {
     "data": {
      "text/plain": [
       "{'Pomes': {'Qty': 5, '€': 0.42},\n",
       " 'Peres': {'Qty': 3, '€': 0.66},\n",
       " 'Melocoton': {'Qty': 9, '€': 2.8}}"
      ]
     },
     "execution_count": 213,
     "metadata": {},
     "output_type": "execute_result"
    }
   ],
   "source": [
    "compra = { \"Pomes\" : {\"Qty\": 5, \"€\": 0.42}, \"Peres\" : {\"Qty\": 3, \"€\": 0.66} }\n",
    "compra [\"Melocoton\"] = {\"Qty\": 9, \"€\": 2.8}\n",
    "compra"
   ]
  },
  {
   "cell_type": "markdown",
   "id": "9b470237-ff72-449c-b7ad-8521039a6e63",
   "metadata": {},
   "source": [
    "* Quant han costat les peres en total?"
   ]
  },
  {
   "cell_type": "code",
   "execution_count": 100,
   "id": "bb3e1478-0c53-4b25-9607-5540fd12bb01",
   "metadata": {},
   "outputs": [
    {
     "data": {
      "text/plain": [
       "1.98"
      ]
     },
     "execution_count": 100,
     "metadata": {},
     "output_type": "execute_result"
    }
   ],
   "source": [
    "a = (compra[\"Peres\"][\"Qty\"])\n",
    "\n",
    "b = (compra[\"Peres\"][\"€\"])\n",
    "\n",
    "a*b\n"
   ]
  },
  {
   "cell_type": "markdown",
   "id": "bcfc7b86-88b3-48a2-8b3c-c3c5eba1b1e4",
   "metadata": {},
   "source": [
    "* Quantes fruites hem comprat en total?"
   ]
  },
  {
   "cell_type": "code",
   "execution_count": 104,
   "id": "2646e9c5-2b46-4c9d-a974-ad6979ebcaf4",
   "metadata": {},
   "outputs": [
    {
     "data": {
      "text/plain": [
       "3"
      ]
     },
     "execution_count": 104,
     "metadata": {},
     "output_type": "execute_result"
    }
   ],
   "source": [
    "len(compra)"
   ]
  },
  {
   "cell_type": "markdown",
   "id": "48a9ac6b-12a9-4a72-9a03-3cac344dd488",
   "metadata": {},
   "source": [
    "* Quina és la fruita més cara?"
   ]
  },
  {
   "cell_type": "code",
   "execution_count": 219,
   "id": "f69c406d-062a-4320-be33-0079ad1b3830",
   "metadata": {},
   "outputs": [
    {
     "data": {
      "text/plain": [
       "'Melocoton'"
      ]
     },
     "execution_count": 219,
     "metadata": {},
     "output_type": "execute_result"
    }
   ],
   "source": [
    "max(compra, key=lambda x:compra[x]['€']) "
   ]
  },
  {
   "cell_type": "code",
   "execution_count": null,
   "id": "bd717742-93ef-4732-8390-1cac4b34da01",
   "metadata": {},
   "outputs": [],
   "source": []
  }
 ],
 "metadata": {
  "kernelspec": {
   "display_name": "Python 3",
   "language": "python",
   "name": "python3"
  },
  "language_info": {
   "codemirror_mode": {
    "name": "ipython",
    "version": 3
   },
   "file_extension": ".py",
   "mimetype": "text/x-python",
   "name": "python",
   "nbconvert_exporter": "python",
   "pygments_lexer": "ipython3",
   "version": "3.8.8"
  },
  "toc-autonumbering": false,
  "toc-showmarkdowntxt": true
 },
 "nbformat": 4,
 "nbformat_minor": 5
}
