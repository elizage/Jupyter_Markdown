{
 "cells": [
  {
   "cell_type": "markdown",
   "id": "2e6f9dce-19ee-4d30-a617-54eccd8b0ba1",
   "metadata": {},
   "source": [
    "<span style='color:orange'>\n",
    "\n",
    "ELIZABETH GONZALEZ - PRESENCIAL -TARDE<h1>\n",
    "\n",
    "DATA SCIENCE\n",
    "\n",
    "SPRINT 3\n",
    "\n",
    "S03 T04: Practice with numerical programming</span>"
   ]
  },
  {
   "cell_type": "markdown",
   "id": "d193a3ed-5913-4f42-a4a7-fed920ee7995",
   "metadata": {},
   "source": [
    "<span style='color:purple'>\n",
    "<h3>Level 1"
   ]
  },
  {
   "cell_type": "markdown",
   "id": "686168e8-2201-4532-9276-1c6fa3292759",
   "metadata": {},
   "source": [
    "<span style='color:purple'>\n",
    "<h4>\n",
    "\n",
    "3.4.1 Exercise \n",
    "\n",
    "Create a function that, given an array of one dimension, gives you a basic statistical summary of the data. If it detects that the array has more than one dimension, it should display an error message </span>"
   ]
  },
  {
   "cell_type": "code",
   "execution_count": 9,
   "id": "51b718fe-d0d7-46f5-a6df-f90d13129cde",
   "metadata": {},
   "outputs": [
    {
     "name": "stdout",
     "output_type": "stream",
     "text": [
      "[22.608 22.293 22.175 22.139 22.109 21.843 21.778 21.749 21.555 21.463]\n",
      "1\n"
     ]
    }
   ],
   "source": [
    "#Valition dimension\n",
    "\n",
    "import numpy as np\n",
    "import pandas as pd\n",
    "\n",
    "lst = np.array([22.608,22.293,22.175,22.139,22.109,21.843,21.778,21.749,21.555,21.463])\n",
    "print (lst)\n",
    "dimention = lst.ndim\n",
    "print (dimention)\n"
   ]
  },
  {
   "cell_type": "code",
   "execution_count": 10,
   "id": "f837ef8f-0f26-440b-a5b3-0c5223781c4b",
   "metadata": {},
   "outputs": [
    {
     "name": "stdout",
     "output_type": "stream",
     "text": [
      "count    10.000000\n",
      "mean      0.217900\n",
      "std       0.004095\n",
      "min       0.212000\n",
      "25%       0.215250\n",
      "50%       0.217500\n",
      "75%       0.219750\n",
      "max       0.226000\n",
      "dtype: float64\n"
     ]
    }
   ],
   "source": [
    "# import pandas as pd\n",
    "\n",
    "import numpy as np\n",
    "import pandas as pd\n",
    "\n",
    "lst = pd.Series([.226, .222, .220, .219, .212, .218, .217, .216, .215, .214])\n",
    "\n",
    "dimention = lst.ndim\n",
    "\n",
    "if dimention != 1:\n",
    "    print ('Error, the array most have one dimention')\n",
    "else:\n",
    "    print (lst.describe())"
   ]
  },
  {
   "cell_type": "code",
   "execution_count": 11,
   "id": "046baea0-f1eb-4dd9-af0e-3a65c2bfdc21",
   "metadata": {},
   "outputs": [
    {
     "name": "stdout",
     "output_type": "stream",
     "text": [
      "[[26  1]\n",
      " [22 11]]\n",
      "2\n"
     ]
    }
   ],
   "source": [
    "# validation if lst is one dimention\n",
    "\n",
    "import numpy as np\n",
    "lst = np.array([(26,1),(22,11)]) \n",
    "print (lst)\n",
    "dimention = lst.ndim\n",
    "print (dimention)\n"
   ]
  },
  {
   "cell_type": "code",
   "execution_count": 103,
   "id": "2b30d255-33b9-4a61-a76e-7a653e81abc4",
   "metadata": {},
   "outputs": [
    {
     "name": "stdout",
     "output_type": "stream",
     "text": [
      "Error, the array most have one dimention\n"
     ]
    }
   ],
   "source": [
    "# validation if lst is Not one dimention\n",
    "\n",
    "import numpy as np\n",
    "import pandas as pd\n",
    "\n",
    "lst = np.array([(26,1),(22,11)]) \n",
    "\n",
    "dimention = lst.ndim\n",
    "\n",
    "if dimention != 1:\n",
    "    print ('Error, the array most have one dimention')\n",
    "else:\n",
    "    print (lst.describe())"
   ]
  },
  {
   "cell_type": "markdown",
   "id": "e7359323-0e27-47ac-aa88-7d383d761b58",
   "metadata": {},
   "source": [
    "<span style='color:purple'>\n",
    "<h4>\n",
    "\n",
    "3.4.2 Exercise \n",
    "\n",
    "Create a function that generates an NxN square of random numbers between 0 and 100.\n",
    "</span>"
   ]
  },
  {
   "cell_type": "markdown",
   "id": "caeefcb1-3a87-43a2-869d-5580b7a2a4e6",
   "metadata": {},
   "source": [
    "First we ask for rows and cols number,\n",
    "then generate a square whit random numbers.."
   ]
  },
  {
   "cell_type": "code",
   "execution_count": 108,
   "id": "629eccf8-9b3e-4f71-bc7b-46496eb2a243",
   "metadata": {},
   "outputs": [
    {
     "name": "stdin",
     "output_type": "stream",
     "text": [
      "Enter the num rows and cols:  5\n"
     ]
    },
    {
     "name": "stdout",
     "output_type": "stream",
     "text": [
      "5\n",
      "[[27 69 89 79 24]\n",
      " [79  2 87 20 85]\n",
      " [92 48 89 74 81]\n",
      " [ 7  5 27 51  7]\n",
      " [86 75 62 35 44]]\n"
     ]
    }
   ],
   "source": [
    "# We have to import random library fron numpy\n",
    "from numpy import random\n",
    "\n",
    "num= int (input(\"Enter the num rows and cols: \"))\n",
    "print(num) # send to print the entered numer of rows and cols\n",
    "x = random.randint(100, size=(num,num))\n",
    "print(x) # send to print square of numbers in matrix form"
   ]
  },
  {
   "cell_type": "markdown",
   "id": "59fb1efd-2da4-45c6-84ef-b4b57d5de584",
   "metadata": {},
   "source": [
    "<span style='color:purple'>\n",
    "<h4>\n",
    "\n",
    "3.4.3 Exercise \n",
    "\n",
    "Create a function that given a two-dimensional table, calculates the totals per row and the totals per column.\n",
    "</span>"
   ]
  },
  {
   "cell_type": "code",
   "execution_count": 109,
   "id": "47c8f234-d637-45f0-8d66-d5bf9fd3fc1f",
   "metadata": {},
   "outputs": [
    {
     "name": "stdout",
     "output_type": "stream",
     "text": [
      "[[567 453  98]\n",
      " [123 654   6]\n",
      " [  0 345 936]]\n",
      "Sum of 1 row: 1118\n",
      "Sum of 2 row: 783\n",
      "Sum of 3 row: 1281\n",
      "Sum of 1 col: 690\n",
      "Sum of 2 col: 1452\n",
      "Sum of 3 col: 1040\n"
     ]
    }
   ],
   "source": [
    "import numpy as np\n",
    "\n",
    "#Initialize   \n",
    "tbl= np.array ([(567, 453, 98),(123, 654, 6),(0, 345, 936)]); float\n",
    "print (tbl)\n",
    "\n",
    "rows = len(tbl);  \n",
    "cols = len(tbl[0]);  \n",
    "\n",
    "#Calculates sum of each row of given matrix  \n",
    "for i in range(0, rows):  \n",
    "    sum_rows = 0;  \n",
    "    for j in range(0, cols):  \n",
    "        sum_rows = sum_rows + tbl[i][j];  \n",
    "    print(\"Sum of \" + str(i+1) +\" row: \" + str(sum_rows));  \n",
    "\n",
    "for i in range(0, cols):  \n",
    "    sum_cols = 0;  \n",
    "    for j in range(0, cols):  \n",
    "        sum_cols = sum_cols + tbl[j][i];  \n",
    "    print(\"Sum of \" + str(i+1) +\" col: \" + str(sum_cols));  \n"
   ]
  },
  {
   "cell_type": "markdown",
   "id": "7b820250-ea8f-42f3-990e-3342540d8de4",
   "metadata": {},
   "source": [
    "<span style='color:purple'>\n",
    "<h4>\n",
    "\n",
    "3.4.4 Exercise\n",
    "    \n",
    "Manually implements a function that calculates the correlation coefficient. Learn about its uses and interpretation.\n",
    "</span>"
   ]
  },
  {
   "attachments": {
    "b2158802-c5b6-43d9-8736-f268d1d406d7.png": {
     "image/png": "[encoded data removed]"
    }
   },
   "cell_type": "markdown",
   "id": "7ffcdecd-e7e9-4f00-8c6d-24df192bd2ec",
   "metadata": {},
   "source": [
    "The quantities from these calculations will be used in subsequent steps of our calculation of r:\n",
    "\n",
    "![c_corr.png](attachment:b2158802-c5b6-43d9-8736-f268d1d406d7.png)\n",
    "  "
   ]
  },
  {
   "attachments": {
    "87003edc-09eb-45f2-a2d1-d26a4e26abac.png": {
     "image/png": "[encoded data removed]"
    },
    "b07ca491-934f-4dda-9a0b-1c6411b00d56.png": {
     "image/png": "[encoded data removed]"
    }
   },
   "cell_type": "markdown",
   "id": "d15e173e-0eb6-4f40-becd-6775586e50cb",
   "metadata": {},
   "source": [
    "Where:\n",
    "\n",
    "\n",
    "![xy.png](attachment:87003edc-09eb-45f2-a2d1-d26a4e26abac.png)\n",
    "\n",
    "![sxy.png](attachment:b07ca491-934f-4dda-9a0b-1c6411b00d56.png)"
   ]
  },
  {
   "cell_type": "code",
   "execution_count": 110,
   "id": "b9cb3153-41ec-412a-b557-6f59a6b60e87",
   "metadata": {},
   "outputs": [
    {
     "name": "stdout",
     "output_type": "stream",
     "text": [
      "[[1 1]\n",
      " [2 3]\n",
      " [4 5]\n",
      " [5 7]]\n",
      "0    1\n",
      "1    2\n",
      "2    4\n",
      "3    5\n",
      "Name: x, dtype: Int64\n",
      "Sum x, Σx = 12\n",
      "0    1\n",
      "1    3\n",
      "2    5\n",
      "3    7\n",
      "Name: y, dtype: Int64\n",
      "Sum y, Σy = 16\n",
      "0     1\n",
      "1     6\n",
      "2    20\n",
      "3    35\n",
      "dtype: Int64\n",
      "Sum x*y, Σxy = 62\n",
      "Number of rows, N =  4\n",
      "Mean of x,  x̄ =  3.0\n",
      "Mean of y,  ȳ =  4.0\n",
      "Mean of x*y, x̄ȳ =  12.0\n",
      "Standard deviation de x, sx =  1.5811388300841898\n",
      "Standard deviation de y, sy =  2.23606797749979\n",
      "Standard deviation de xy,  sxsy =  3.535533905932738\n",
      "Correlation Coefficient r de xy, rxy=  0.9899494936611664\n"
     ]
    }
   ],
   "source": [
    "import numpy as np\n",
    "import pandas as pd\n",
    "\n",
    "#Initialize  \n",
    "tab= np.array ([(1, 1), (2, 3), (4, 5), (5,7)]);float\n",
    "print(tab)\n",
    "\n",
    "df = pd.DataFrame(tab,columns=['x', 'y'])\n",
    "\n",
    "#Calculates  x sum\n",
    "\n",
    "df[\"x\"] = (df[\"x\"].astype(\"Int64\"))\n",
    "\n",
    "suma_x = df['x'].sum()\n",
    "print (df['x'])\n",
    "\n",
    "print (\"Sum x, Σx =\",suma_x)\n",
    "\n",
    "#Calculates  y sum\n",
    "\n",
    "df[\"y\"] = (df[\"y\"].astype(\"Int64\"))\n",
    "\n",
    "suma_y = df['y'].sum()\n",
    "print (df['y'])\n",
    "\n",
    "print (\"Sum y, Σy =\",suma_y)\n",
    "\n",
    "#Calculates  x , y total sum of each column of the table xy\n",
    "\n",
    "df[\"xy\"] = (df[\"x\"] * df[\"y\"]).astype(\"Int64\")\n",
    "\n",
    "suma_xy = (df['x']*df['y']).sum()\n",
    "print (df['x']*df['y'])\n",
    "\n",
    "print (\"Sum x*y, Σxy =\",suma_xy)\n",
    "\n",
    "#Calculate N\n",
    "n=len(tab)\n",
    "print (\"Number of rows, N = \",len(tab))\n",
    "\n",
    "#Calculate x̄, the MEAN of all data xi (aritmetical media).\n",
    "\n",
    "suma_x = (df['x'].sum())\n",
    "          \n",
    "mean_x = suma_x/len(tab)\n",
    "print (\"Mean of x,  x̄ = \",mean_x)\n",
    "\n",
    "#Calculate ȳ, the MEAN of all data yi (aritmetical media).\n",
    "\n",
    "suma_y = (df['y'].sum())\n",
    "          \n",
    "mean_y = suma_y/len(tab)\n",
    "print (\"Mean of y,  ȳ = \",mean_y)\n",
    "\n",
    "mean_xy = mean_x*mean_y\n",
    "\n",
    "print (\"Mean of x*y, x̄ȳ = \",mean_xy)\n",
    "\n",
    "#Calculate STANDARD DEVIATION for x, y \n",
    "\n",
    "## a) Calculate Standard Deviation, sx\n",
    "df[\"x\"] = (df[\"x\"])\n",
    "sx = ((((df[\"x\"] - mean_x)**2).sum())/(n))\n",
    "import math\n",
    "sx_square = math.sqrt(sx)\n",
    "print (\"Standard deviation de x, sx = \",sx_square)\n",
    "\n",
    "## b) Calculate Standard Deviation, sy\n",
    "df[\"y\"] = (df[\"y\"])\n",
    "sy = ((((df[\"y\"] - mean_y)**2).sum())/(n))\n",
    "import math\n",
    "sy_square = math.sqrt(sy)\n",
    "print (\"Standard deviation de y, sy = \",sy_square)\n",
    "\n",
    "#Calculate Standar Deviation sx*sy\n",
    "\n",
    "sxy =sx_square*sy_square\n",
    "print (\"Standard deviation de xy,  sxsy = \",sxy)\n",
    "\n",
    "#Calculate Correlation Coeficinet\n",
    "\n",
    "coef_corr= (((suma_xy/n)-mean_xy))/(sxy)\n",
    "print(\"Correlation Coefficient r de xy, rxy= \",coef_corr)\n"
   ]
  },
  {
   "cell_type": "markdown",
   "id": "256c9ecc-b105-430a-b56e-a28e66743527",
   "metadata": {},
   "source": [
    "**Interpretation:\n",
    "We have a correlation coefficient close to 1, which means that there is a strong relationship between x and y, if we were working with hypothesis testing and confidence intervals we would have an estimate of the strength of the relationship in the population from which the data were taken.**"
   ]
  }
 ],
 "metadata": {
  "kernelspec": {
   "display_name": "Python 3",
   "language": "python",
   "name": "python3"
  },
  "language_info": {
   "codemirror_mode": {
    "name": "ipython",
    "version": 3
   },
   "file_extension": ".py",
   "mimetype": "text/x-python",
   "name": "python",
   "nbconvert_exporter": "python",
   "pygments_lexer": "ipython3",
   "version": "3.8.8"
  },
  "toc-autonumbering": false,
  "toc-showcode": true,
  "toc-showmarkdowntxt": false,
  "toc-showtags": false
 },
 "nbformat": 4,
 "nbformat_minor": 5
}
