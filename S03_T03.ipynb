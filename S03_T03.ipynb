{
 "cells": [
  {
   "cell_type": "markdown",
   "id": "060d4426-d96a-4311-a897-1d3dfe439f50",
   "metadata": {},
   "source": [
    "<span style='color:orange'>\n",
    "\n",
    "ELIZABETH GONZALEZ - PRESENCIAL -TARDE<h1>\n",
    "\n",
    "DATA SCIENCE\n",
    "\n",
    "SPRINT 3\n",
    "\n",
    "S03 T03: Control structure</span>"
   ]
  },
  {
   "cell_type": "markdown",
   "id": "48a0becc-9c2a-4ee8-98cf-9d3ad1a3d085",
   "metadata": {},
   "source": [
    "<span style='color:purple'>\n",
    "<h3>Level 1"
   ]
  },
  {
   "cell_type": "markdown",
   "id": "c31ad14b-707c-451b-93dd-e06299def638",
   "metadata": {},
   "source": [
    "<span style='color:purple'>\n",
    "<h4>\n",
    "\n",
    "3.3.1 Exercise \n",
    "\n",
    "The exercise involves creating a program that rates you a numeric variable based on: Suspended / Passed / Notable / Excellent scale.</span>"
   ]
  },
  {
   "cell_type": "code",
   "execution_count": 38,
   "id": "d652e257-59c7-4bd8-9fb4-87a67b476f95",
   "metadata": {},
   "outputs": [
    {
     "name": "stdin",
     "output_type": "stream",
     "text": [
      "Enter numeric evaluation with decimals: 8.5\n"
     ]
    },
    {
     "name": "stdout",
     "output_type": "stream",
     "text": [
      "The score is: Notable\n"
     ]
    }
   ],
   "source": [
    "# Define N is a numeric evaluation\n",
    "# The scale for score is: Suspended : 0-4.9,    Passed : 5-6.9,   Notable : 7-8.9,    Excellent : 9-10\n",
    "\n",
    "N = float(input('Enter numeric evaluation with decimals:'))\n",
    "if N <= 4.9:\n",
    "    R= 'Suspended'\n",
    "elif 4.9 < N <= 6.9:\n",
    "    R= 'Passed'\n",
    "elif 6.9 < N <= 8.9:\n",
    "    R= 'Notable'\n",
    "elif 8.9 < N <= 10:\n",
    "    R= 'Excellent'\n",
    "else: \n",
    "    R ='You must enter an evaluation greater than or equal to zero and less than or equal to ten'\n",
    "    \n",
    "print('The score is:',R)   "
   ]
  },
  {
   "cell_type": "markdown",
   "id": "962a598d-1676-4dc9-8bbd-a141af2cdac0",
   "metadata": {},
   "source": [
    "<span style='color:purple'>\n",
    "<h4>\n",
    "\n",
    "3.3.2 Exercise\n",
    "\n",
    "Using the following Programiz tutorial: Python Input, Output and Import create a program that asks you two numbers. It should show you a message saying if the first one is bigger, the second one is bigger or they are the same.</span>"
   ]
  },
  {
   "cell_type": "code",
   "execution_count": 3,
   "id": "08752850-6b82-4463-8822-4a589a7d1850",
   "metadata": {},
   "outputs": [
    {
     "name": "stdin",
     "output_type": "stream",
     "text": [
      "Enter an integer number 1: 2\n",
      "Enter an integer number 2: 2\n"
     ]
    },
    {
     "name": "stdout",
     "output_type": "stream",
     "text": [
      "Comparison :  Number 1 is the same Number 2 ==>  2  =  2\n"
     ]
    }
   ],
   "source": [
    "# Define number1 and number2 for compare them\n",
    "\n",
    "number1 = str(input('Enter an integer number 1:'))\n",
    "number2 = str(input('Enter an integer number 2:'))\n",
    "if number1 > number2:\n",
    "    R= 'Number 1 is bigger than Number 2 ==>  '+ number1 + '  >  ' + number2\n",
    "elif number1 < number2:\n",
    "    R= 'Number 2 is bigger than Number 1 ==>  '+ number1 + '  <  ' + number2\n",
    "elif number2 == number1:\n",
    "    R= 'Number 1 is the same Number 2 ==>  '+ number2 + '  =  ' + number1\n",
    "else: \n",
    "    R ='You must enter an natural number and diferent of zero'\n",
    "    \n",
    "print('Comparison : ',R)   "
   ]
  },
  {
   "cell_type": "markdown",
   "id": "60e3b063-b348-4896-8add-32a5ba493578",
   "metadata": {},
   "source": [
    "<span style='color:purple'>\n",
    "<h4>\n",
    "\n",
    "3.3.3 Exercise\n",
    "\n",
    "Create a program that asks you your name, and asks you for a number. If the number is 0, it should display an error message. Otherwise, it should display the repeated name as many times as the number indicates. For example, “Joan Joan Joan”.</span>"
   ]
  },
  {
   "cell_type": "markdown",
   "id": "33d39dfd-43ad-4178-81bc-bbe8c4c16752",
   "metadata": {},
   "source": [
    "<span style='color:purple'>a) Case for error</span>"
   ]
  },
  {
   "cell_type": "code",
   "execution_count": 4,
   "id": "ee3bba4d-bf05-4686-bb4a-a524f84ff61c",
   "metadata": {},
   "outputs": [
    {
     "name": "stdin",
     "output_type": "stream",
     "text": [
      "Enter an name: Elizabeth\n",
      "Enter an number: 0\n"
     ]
    },
    {
     "name": "stdout",
     "output_type": "stream",
     "text": [
      "Error, the numer must be bigger than 0\n"
     ]
    }
   ],
   "source": [
    "# Define name and number\n",
    "\n",
    "name = str(input('Enter an name:'))\n",
    "number = int(input('Enter an number:'))\n",
    "\n",
    "# Conditions\n",
    "\n",
    "if number == 0:\n",
    "    R = 'Error, the numer must be bigger than 0'\n",
    "else:\n",
    "    R = name * number\n",
    "\n",
    "print (R)"
   ]
  },
  {
   "cell_type": "markdown",
   "id": "22173738-49b5-4b1a-a1fa-ed43eacd695c",
   "metadata": {},
   "source": [
    "<span style='color:purple'>a) Case correct </span>"
   ]
  },
  {
   "cell_type": "code",
   "execution_count": 5,
   "id": "0672aa90-5871-4454-b3cc-1e0f0eab9ad5",
   "metadata": {},
   "outputs": [
    {
     "name": "stdin",
     "output_type": "stream",
     "text": [
      "Enter an name: Elizabeth\n",
      "Enter an number: 6\n"
     ]
    },
    {
     "name": "stdout",
     "output_type": "stream",
     "text": [
      "ElizabethElizabethElizabethElizabethElizabethElizabeth\n"
     ]
    }
   ],
   "source": [
    "# Define name and number\n",
    "\n",
    "name = str(input('Enter an name:'))\n",
    "number = int(input('Enter an number:'))\n",
    "\n",
    "# Conditions\n",
    "\n",
    "if number == 0:\n",
    "    R = 'Error, the numer must be bigger than 0'\n",
    "else:\n",
    "    R = name * number\n",
    "\n",
    "print (R)"
   ]
  },
  {
   "cell_type": "markdown",
   "id": "f64cd7ce-cf21-429c-bece-85484f0f4a19",
   "metadata": {},
   "source": [
    "<span style='color:purple'>\n",
    "<h4>\n",
    "\n",
    "3.3.4 Exercise\n",
    "\n",
    "Create a program that given any list, tells you if it is symmetrical or not. If so, let me tell you how many items it has.</span>"
   ]
  },
  {
   "cell_type": "markdown",
   "id": "6be2624b-0e4d-4b9c-af9d-f7983b7779bc",
   "metadata": {},
   "source": [
    "<span style='color:purple'>\n",
    "Note\n",
    "\n",
    "Definition symmetric list:\n",
    "(computer science)\n",
    "    \n",
    "\"A list with sequencing pointers to previous as well as subsequent items.\"\n",
    "\n",
    "<h6>\n",
    "McGraw-Hill Dictionary of Scientific & Technical Terms, 6E, Copyright © 2003 by The McGraw-Hill Companies, Inc.</span>\n"
   ]
  },
  {
   "cell_type": "code",
   "execution_count": 15,
   "id": "cdba1bd4-d924-43e2-bd0b-000f03ff0ad9",
   "metadata": {},
   "outputs": [
    {
     "name": "stdout",
     "output_type": "stream",
     "text": [
      "List ordered in inverse way :  [50, 49, 48, 49, 50]\n",
      "The list IS SIMETRIC, the total Number of Elements in the list is   ==>  5\n"
     ]
    }
   ],
   "source": [
    "# Prove with a simetric list\n",
    "lst1 = [50,49,48,49,50]\n",
    "elem =len(lst1)\n",
    "lst2=(lst1[::-1])\n",
    "\n",
    "print ('List ordered in inverse way : ', lst2)\n",
    "\n",
    "if lst1 == lst2:\n",
    "    print ('The list IS SIMETRIC, the total Number of Elements in the list is   ==> ', elem)\n",
    "    \n",
    "else:\n",
    "    print ('The list is NOT SIMETRIC, the total Number of Elements in the list is   ==> ', elem)\n"
   ]
  },
  {
   "cell_type": "code",
   "execution_count": 2,
   "id": "197059af-9694-4280-b928-62ffbb0ef546",
   "metadata": {},
   "outputs": [
    {
     "name": "stdout",
     "output_type": "stream",
     "text": [
      "List ordered in inverse way :  [50, 49, 123, 48, 49, 234]\n",
      "The list is NOT SIMETRIC, the total Number of Elements in the list is   ==>  6\n"
     ]
    }
   ],
   "source": [
    "# Prove with a no simetric list\n",
    "lst1 = [234,49,48,123,49,50]\n",
    "elem =len(lst1)\n",
    "lst2=(lst1[::-1])\n",
    "\n",
    "print ('List ordered in inverse way : ', lst2)\n",
    "\n",
    "if lst1 == lst2:\n",
    "    print ('The list IS SIMETRIC, the total Number of Elements in the list is   ==> ', elem)\n",
    "    \n",
    "else:\n",
    "    print ('The list is NOT SIMETRIC, the total Number of Elements in the list is   ==> ', elem)\n"
   ]
  },
  {
   "cell_type": "markdown",
   "id": "3a1ae9bd-bfb5-46c4-9aff-340660f2fd77",
   "metadata": {},
   "source": [
    "<span style='color:purple'>\n",
    "<h4>\n",
    "\n",
    "3.3.5 Exercise\n",
    "\n",
    "Create a program that given a list, tells you how many numbers match your position. For example [3,4,2,0,2,3,6] 2 and 6 coincide.</span>"
   ]
  },
  {
   "cell_type": "code",
   "execution_count": 80,
   "id": "57d9367c-91e9-4679-b9e0-1eb532df670f",
   "metadata": {},
   "outputs": [
    {
     "name": "stdout",
     "output_type": "stream",
     "text": [
      "Value founded   2  in position  2\n",
      "Value founded   5  in position  5\n",
      "Value founded   11  in position  11\n",
      "Value founded   12  in position  12\n"
     ]
    }
   ],
   "source": [
    "#Use the function -enumerate- to obtain value and position\n",
    "\n",
    "list5 = [14,15,2,17,18,5,20,21,22,23,24,11,12,27,28,29,30]\n",
    "\n",
    "for posicion , valor in enumerate(lista5):\n",
    "\n",
    "# Compair both elements\n",
    "\n",
    "    if posicion == valor: \n",
    "        print ('Value founded   ' + str(valor) + '  in position  ' + str(posicion))"
   ]
  }
 ],
 "metadata": {
  "kernelspec": {
   "display_name": "Python 3",
   "language": "python",
   "name": "python3"
  },
  "language_info": {
   "codemirror_mode": {
    "name": "ipython",
    "version": 3
   },
   "file_extension": ".py",
   "mimetype": "text/x-python",
   "name": "python",
   "nbconvert_exporter": "python",
   "pygments_lexer": "ipython3",
   "version": "3.8.8"
  },
  "toc-autonumbering": false
 },
 "nbformat": 4,
 "nbformat_minor": 5
}
